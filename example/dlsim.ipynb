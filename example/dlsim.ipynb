{
 "cells": [
  {
   "cell_type": "markdown",
   "metadata": {},
   "source": [
    "# Demography of duplicate genes\n",
    "\n",
    "Arthur Zwaenepoel - August 2018\n",
    "\n",
    "Assume a population of $N$ genes, residing happily in a genome. The genes duplicate at rate $\\lambda$ (birth) and get lost at rate $\\mu$ (death), but never such that $N < N_0$, assuming the organism needs at least a particular set of $N_0$ genes to be viable (this is the initial set of genes). We further assume that neo- or subfunctionalization leads to fixation of duplicate genes at rate $\\phi$. Although this last assumption is not necessary to show the basic effects of continuous birth and death of duplicates through small-scale duplication events, it contributes some additional biological realism. Note that more sophisticated simulation studies can be found in Vanneste *et al.* (2013), where a similar model was combined with explicit simulation of synonymous sequence evolution and whole genome duplications."
   ]
  },
  {
   "cell_type": "code",
   "execution_count": 4,
   "metadata": {},
   "outputs": [],
   "source": [
    "import numpy as np\n",
    "import matplotlib.pyplot as plt\n",
    "import random as rnd\n",
    "import seaborn as sns\n",
    "%matplotlib inline"
   ]
  },
  {
   "cell_type": "code",
   "execution_count": 5,
   "metadata": {},
   "outputs": [],
   "source": [
    "def duplication_loss_simulation(N0=1000, lm=0.1, mu=0.1, t=1, ph=0.0):\n",
    "    \"\"\"\n",
    "    Simulate the demography of duplicate genes, assuming constant birth & death rate \n",
    "    as well as a base number of genes. A rate of fixation of duplicates can also be\n",
    "    specified.\n",
    "\n",
    "    :param N0: number of base (initial, immortal) genes\n",
    "    :param lm: birth (duplication) rate\n",
    "    :param mu: death (loss) rate\n",
    "    :param t: evolutionary time\n",
    "    :param ph: fixation rate of duplicates\n",
    "    :return: (duplicates, base population size, total population size) \n",
    "    \"\"\"\n",
    "    N = N0  # start with N0 genes\n",
    "    population = []  # this stores all non-essential duplicates in the population and their age\n",
    "    fixed = []  # this stores all fixed duplicates and their age\n",
    "    rates = ph + mu + lm  # this is the total rate of an event happening (duplication, loss, fixation)\n",
    "\n",
    "    # the waiting time until the first event is an exponentially distributed\n",
    "    # variable with rate the sum of the rates x the number of genes\n",
    "    waiting_time = rnd.expovariate((rates)*N)\n",
    "    t -= waiting_time\n",
    "    \n",
    "    # loop until the desired time has passed\n",
    "    while t > 0:    \n",
    "        r = rnd.random()\n",
    "        \n",
    "        # fixation, inccrements N0 and moves a gene from population to fixed\n",
    "        if r < ph/(rates) and N>N0:\n",
    "            fixed_gene = population.pop(rnd.randrange(len(population)))\n",
    "            fixed.append(fixed_gene)\n",
    "            N0 += 1\n",
    "            \n",
    "        # duplication\n",
    "        elif r < (lm+ph)/(rates):\n",
    "            population.append(0.0)\n",
    "            N += 1\n",
    "            \n",
    "        # loss \n",
    "        elif N > N0:\n",
    "            population.pop(rnd.randrange(len(population)))\n",
    "            N -= 1\n",
    "            \n",
    "        # increment age of all duplicates in the population\n",
    "        for i in range(len(population)):\n",
    "            population[i] += waiting_time\n",
    "            \n",
    "        # increment age of all fixed duplicates\n",
    "        for i in range(len(fixed)):\n",
    "            fixed[i] += waiting_time\n",
    "            \n",
    "        # draw next waiting time\n",
    "        waiting_time = rnd.expovariate((rates)*N)\n",
    "        t -= waiting_time\n",
    "    \n",
    "    return population + fixed, N, N0"
   ]
  },
  {
   "cell_type": "markdown",
   "metadata": {},
   "source": [
    "## Typical case, exponential decay"
   ]
  },
  {
   "cell_type": "markdown",
   "metadata": {},
   "source": [
    "A typical case, with a slightly lower loss than duplication rate and a low probability of fixtion of duplicates."
   ]
  },
  {
   "cell_type": "code",
   "execution_count": 20,
   "metadata": {},
   "outputs": [
    {
     "data": {
      "text/plain": [
       "(20403, 21065, 1065)"
      ]
     },
     "execution_count": 20,
     "metadata": {},
     "output_type": "execute_result"
    }
   ],
   "source": [
    "lm, mu, ph = 0.3, 0.25, 0.02\n",
    "pop, N, N0 = duplication_loss_simulation(N0=20000, lm=lm, mu=mu, ph=ph, t=1)\n",
    "N0, N, len(pop)"
   ]
  },
  {
   "cell_type": "code",
   "execution_count": 21,
   "metadata": {
    "scrolled": false
   },
   "outputs": [
    {
     "name": "stderr",
     "output_type": "stream",
     "text": [
      "/home/arzwa/.local/lib/python3.5/site-packages/scipy/stats/stats.py:1713: FutureWarning: Using a non-tuple sequence for multidimensional indexing is deprecated; use `arr[tuple(seq)]` instead of `arr[seq]`. In the future this will be interpreted as an array index, `arr[np.array(seq)]`, which will result either in an error or a different result.\n",
      "  return np.add.reduce(sorted[indexer] * weights, axis=axis) / sumval\n"
     ]
    },
    {
     "data": {
      "image/png": "[encoded data removed]",
      "text/plain": [
       "<Figure size 432x288 with 1 Axes>"
      ]
     },
     "metadata": {},
     "output_type": "display_data"
    }
   ],
   "source": [
    "fig, ax = plt.subplots()\n",
    "\n",
    "# perform KDE on the reflected data to avoid boundary effects\n",
    "sns.distplot(pop + [-1*x for x in pop], hist_kws={'rwidth':0.8}, color=\"k\")\n",
    "\n",
    "# plot aesthetics\n",
    "ax.set_xlim(0, max(pop))\n",
    "ax.set_xlabel(\"Duplicate age\")\n",
    "ax.set_ylabel(\"Density\")\n",
    "ax.text(s=\"$n = {}$\".format(len(pop)), x=0.8, y=ax.get_ylim()[1]-0.2)\n",
    "ax.text(s=\"$\\lambda = {:.2f}$\".format(lm), x=0.8, y=ax.get_ylim()[1]-0.35)\n",
    "ax.text(s=\"$\\mu = {:.2f}$\".format(mu), x=0.8, y=ax.get_ylim()[1]-0.5)\n",
    "ax.text(s=\"$\\phi = {:.2f}$\".format(ph), x=0.8, y=ax.get_ylim()[1]-0.65)\n",
    "sns.despine(offset=5)"
   ]
  },
  {
   "cell_type": "markdown",
   "metadata": {},
   "source": [
    "## Less typical case"
   ]
  },
  {
   "cell_type": "markdown",
   "metadata": {},
   "source": [
    "When the loss rate exceeds the duplication rate, and the fixation rate is high enough such that some duplicates get fixed before they are lost, the distribution becomes more uniform-like. "
   ]
  },
  {
   "cell_type": "code",
   "execution_count": 54,
   "metadata": {},
   "outputs": [
    {
     "data": {
      "text/plain": [
       "(20710, 20712, 712)"
      ]
     },
     "execution_count": 54,
     "metadata": {},
     "output_type": "execute_result"
    }
   ],
   "source": [
    "lm, mu, ph = 0.3, 0.4, 0.05\n",
    "pop, N, N0 = duplication_loss_simulation(N0=20000, lm=lm, mu=mu, ph=ph, t=1)\n",
    "N0, N, len(pop)"
   ]
  },
  {
   "cell_type": "code",
   "execution_count": 55,
   "metadata": {
    "scrolled": false
   },
   "outputs": [
    {
     "data": {
      "image/png": "[encoded data removed]",
      "text/plain": [
       "<Figure size 432x288 with 1 Axes>"
      ]
     },
     "metadata": {},
     "output_type": "display_data"
    }
   ],
   "source": [
    "fig, ax = plt.subplots()\n",
    "\n",
    "# perform KDE on the reflected data to avoid boundary effects\n",
    "sns.distplot(pop + [-1*x for x in pop], hist_kws={'rwidth':0.8}, bins=40, color=\"k\")\n",
    "\n",
    "# plot aesthetics\n",
    "ax.set_xlim(0, max(pop))\n",
    "ax.set_xlabel(\"Duplicate age\")\n",
    "ax.set_ylabel(\"Density\")\n",
    "sns.despine(offset=5)"
   ]
  }
 ],
 "metadata": {
  "kernelspec": {
   "display_name": "Python 3",
   "language": "python",
   "name": "python3"
  },
  "language_info": {
   "codemirror_mode": {
    "name": "ipython",
    "version": 3
   },
   "file_extension": ".py",
   "mimetype": "text/x-python",
   "name": "python",
   "nbconvert_exporter": "python",
   "pygments_lexer": "ipython3",
   "version": "3.5.2"
  }
 },
 "nbformat": 4,
 "nbformat_minor": 2
}
